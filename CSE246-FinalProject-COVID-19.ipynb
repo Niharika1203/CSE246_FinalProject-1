{
 "cells": [
  {
   "cell_type": "markdown",
   "metadata": {},
   "source": [
    "## CSE246-Final Project\n",
    "\n",
    "Social, cultural, and government intervention effects on the spread of COVID-19"
   ]
  },
  {
   "cell_type": "markdown",
   "metadata": {},
   "source": [
    "### Description\n",
    "This Notebook is a collaboration between Samaa and Niharika and will be used to study the effects of social, cultural and governemnt factors on the spread of COVID-19. This study will span multiple countries such as: Saudi Arabia, India, The United States. \n",
    "\n",
    "### resources\n",
    "- Basic world wide data https://github.com/CSSEGISandData/COVID-19\n",
    "- Detailed Saudi Data https://gist.github.com/AlrasheedA/e3ba0be8cbdd4e133146d2e17cd9a354\n",
    "- Exploratory notebook https://github.com/alfozan/COVID-19-notebook/blob/master/COVID-19-Saudi.ipynb"
   ]
  },
  {
   "cell_type": "markdown",
   "metadata": {},
   "source": [
    "### The Data"
   ]
  },
  {
   "cell_type": "code",
   "execution_count": 2,
   "metadata": {},
   "outputs": [],
   "source": [
    "import pandas as pd\n",
    "import numpy as np"
   ]
  },
  {
   "cell_type": "code",
   "execution_count": 3,
   "metadata": {},
   "outputs": [],
   "source": [
    "# world wide data\n",
    "confirmed_url = \"https://github.com/CSSEGISandData/COVID-19/raw/master/csse_covid_19_data/csse_covid_19_time_series/time_series_covid19_confirmed_global.csv\"\n",
    "deaths_url = \"https://github.com/CSSEGISandData/COVID-19/raw/master/csse_covid_19_data/csse_covid_19_time_series/time_series_covid19_deaths_global.csv\"\n",
    "\n",
    "df_confirmed_raw = pd.read_csv(confirmed_url)\n",
    "df_deaths_raw = pd.read_csv(deaths_url)"
   ]
  },
  {
   "cell_type": "code",
   "execution_count": 10,
   "metadata": {},
   "outputs": [],
   "source": [
    "# prepare dataframe\n",
    "def clean_df(raw_df):\n",
    "    col_rename = {\"Province/State\": \"province\", \"Country/Region\": \"country\"}\n",
    "    cleaned_df = raw_df.rename(columns=col_rename)\n",
    "    cleaned_df = cleaned_df.set_index([\"country\", \"province\"])\n",
    "    cleaned_df = cleaned_df[[x for x in cleaned_df.columns if x not in [\"Lat\", \"Long\"]]]\n",
    "    cleaned_df.columns = pd.to_datetime(cleaned_df.columns)\n",
    "    cleaned_df.columns.name = \"dt\"\n",
    "    return cleaned_df\n",
    "\n",
    "\n",
    "df_confirmed = clean_df(df_confirmed_raw)\n",
    "df_deaths = clean_df(df_deaths_raw)"
   ]
  },
  {
   "cell_type": "code",
   "execution_count": 9,
   "metadata": {},
   "outputs": [],
   "source": [
    "# Saudi Arabia data\n",
    "Saudi_data = \"https://gist.githubusercontent.com/AlrasheedA/e3ba0be8cbdd4e133146d2e17cd9a354/raw/c0781a95346a223436af8f4b9b790285b2697276/saudi_covid19.csv\"\n",
    "\n",
    "df_saudi_raw = pd.read_csv(Saudi_data)"
   ]
  },
  {
   "cell_type": "code",
   "execution_count": null,
   "metadata": {},
   "outputs": [],
   "source": [
    "def "
   ]
  }
 ],
 "metadata": {
  "kernelspec": {
   "display_name": "Python 3",
   "language": "python",
   "name": "python3"
  },
  "language_info": {
   "codemirror_mode": {
    "name": "ipython",
    "version": 3
   },
   "file_extension": ".py",
   "mimetype": "text/x-python",
   "name": "python",
   "nbconvert_exporter": "python",
   "pygments_lexer": "ipython3",
   "version": "3.7.3"
  }
 },
 "nbformat": 4,
 "nbformat_minor": 2
}
